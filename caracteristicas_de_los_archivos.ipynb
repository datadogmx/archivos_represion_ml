{
 "cells": [
  {
   "cell_type": "code",
   "execution_count": 1,
   "metadata": {},
   "outputs": [
    {
     "data": {
      "text/html": [
       "<style>\n",
       ".output_subarea.output_text.output_stream.output_stdout > pre {\n",
       "   width:max-content;\n",
       "}\n",
       ".p-Widget.jp-RenderedText.jp-OutputArea-output > pre {\n",
       "   width:max-content;\n",
       "}\n",
       "</style>\n"
      ],
      "text/plain": [
       "<IPython.core.display.HTML object>"
      ]
     },
     "metadata": {},
     "output_type": "display_data"
    }
   ],
   "source": [
    "%%html\n",
    "<style>\n",
    ".output_subarea.output_text.output_stream.output_stdout > pre {\n",
    "   width:max-content;\n",
    "}\n",
    ".p-Widget.jp-RenderedText.jp-OutputArea-output > pre {\n",
    "   width:max-content;\n",
    "}\n",
    "</style>"
   ]
  },
  {
   "cell_type": "code",
   "execution_count": 5,
   "metadata": {},
   "outputs": [],
   "source": [
    "import cv2"
   ]
  },
  {
   "cell_type": "code",
   "execution_count": 2,
   "metadata": {},
   "outputs": [],
   "source": [
    "import os\n",
    "# https://stackoverflow.com/a/9728478\n",
    "def list_files(startpath):\n",
    "    files_path = []\n",
    "    for root, dirs, files in os.walk(startpath):\n",
    "        for indx in range(len(files)):\n",
    "            files_path.append(root+\"/\"+files[indx])\n",
    "    return list(filter(lambda el: el.endswith(\"JPG\"), files_path))"
   ]
  },
  {
   "cell_type": "code",
   "execution_count": 3,
   "metadata": {},
   "outputs": [
    {
     "name": "stdout",
     "output_type": "stream",
     "text": [
      "18,008 imagenes encontradas dentro de la carpeta Ficheros\n"
     ]
    }
   ],
   "source": [
    "# Obtengo todas las imagenes que se descargaron\n",
    "home_path = \"/media/juan/jc/archivos_represion/Ficheros/\"\n",
    "imgs_paths = list_files(home_path)\n",
    "print(\"{:,} imagenes encontradas dentro de la carpeta Ficheros\".format(len(imgs_paths)))"
   ]
  },
  {
   "cell_type": "code",
   "execution_count": 10,
   "metadata": {},
   "outputs": [
    {
     "name": "stdout",
     "output_type": "stream",
     "text": [
      "Procesando con 8 nucleos\n",
      "CPU times: user 163 ms, sys: 43.2 ms, total: 207 ms\n",
      "Wall time: 25min 13s\n"
     ]
    }
   ],
   "source": [
    "%%time\n",
    "import multiprocessing as mp\n",
    "print(\"Procesando con {} nucleos\".format(mp.cpu_count()))\n",
    "def get_shape_information(url):\n",
    "    shp = cv2.imread(url).shape\n",
    "    return (url, *shp, 1 if shp[1]>shp[0] else 0)\n",
    "pool = mp.Pool(mp.cpu_count())\n",
    "results = pool.map(get_shape_information, imgs_paths)\n",
    "pool.close()\n"
   ]
  },
  {
   "cell_type": "code",
   "execution_count": 11,
   "metadata": {},
   "outputs": [],
   "source": [
    "from pyspark.sql import SparkSession\n",
    "from pyspark.sql import functions as F\n",
    "\n",
    "spark = SparkSession.builder.appName('explotacion').getOrCreate()"
   ]
  },
  {
   "cell_type": "code",
   "execution_count": 14,
   "metadata": {},
   "outputs": [],
   "source": [
    "from pyspark.sql.types import *\n",
    "\n",
    "cSchema = StructType([StructField(\"path\", StringType()), StructField(\"h\", IntegerType()),StructField(\"w\", IntegerType()),StructField(\"c\", IntegerType()), StructField(\"is_horizontal\", IntegerType())])\n",
    "\n",
    "\n",
    "df = spark.createDataFrame(results,schema=cSchema) "
   ]
  },
  {
   "cell_type": "code",
   "execution_count": 15,
   "metadata": {},
   "outputs": [
    {
     "name": "stdout",
     "output_type": "stream",
     "text": [
      "CPU times: user 231 ms, sys: 7.79 ms, total: 239 ms\n",
      "Wall time: 5.1 s\n"
     ]
    }
   ],
   "source": [
    "%%time\n",
    "df.toPandas().to_csv(\"data/img_features.csv\", index=False)"
   ]
  },
  {
   "cell_type": "code",
   "execution_count": 19,
   "metadata": {},
   "outputs": [
    {
     "name": "stdout",
     "output_type": "stream",
     "text": [
      "+----+----+-----+-------------------+\n",
      "|w   |h   |count|portcentaje        |\n",
      "+----+----+-----+-------------------+\n",
      "|1728|2304|792  |4.398045313194136  |\n",
      "|1944|2592|6    |0.03331852509995557|\n",
      "|2304|1728|1876 |10.417592181252777 |\n",
      "|2448|3264|722  |4.009329187027988  |\n",
      "|2592|1944|2637 |14.643491781430475 |\n",
      "|3264|2448|413  |2.2934251443802753 |\n",
      "|3456|4608|2662 |14.782318969346957 |\n",
      "|4320|2432|188  |1.0439804531319414 |\n",
      "|4608|3456|8712 |48.3784984451355   |\n",
      "+----+----+-----+-------------------+\n",
      "\n"
     ]
    }
   ],
   "source": [
    "df.groupBy(\"w\", \"h\").count().withColumn(\"portcentaje\",((F.col(\"count\")*100)/18008).alias(\"porcentaje\")).orderBy(F.col(\"w\"),F.col(\"h\")).show(truncate=False)"
   ]
  },
  {
   "cell_type": "code",
   "execution_count": 23,
   "metadata": {},
   "outputs": [
    {
     "name": "stdout",
     "output_type": "stream",
     "text": [
      "+-------------+-----+------------------+\n",
      "|is_horizontal|count|portcentaje       |\n",
      "+-------------+-----+------------------+\n",
      "|1            |13826|76.77698800533096 |\n",
      "|0            |4182 |23.223011994669037|\n",
      "+-------------+-----+------------------+\n",
      "\n"
     ]
    }
   ],
   "source": [
    "df.groupBy(\"is_horizontal\").count().withColumn(\"portcentaje\",((F.col(\"count\")*100)/18008).alias(\"porcentaje\")).orderBy(F.col(\"is_horizontal\").desc()).show(truncate=False)"
   ]
  },
  {
   "cell_type": "code",
   "execution_count": 24,
   "metadata": {},
   "outputs": [
    {
     "name": "stdout",
     "output_type": "stream",
     "text": [
      "+-------------------------------------------------------------------------------------------+----+----+---+-------------+\n",
      "|path                                                                                       |h   |w   |c  |is_horizontal|\n",
      "+-------------------------------------------------------------------------------------------+----+----+---+-------------+\n",
      "|/media/juan/jc/archivos_represion/Ficheros/ACNR_militantes/Adame_Flores_samuel/IMG_6837.JPG|3456|4608|3  |1            |\n",
      "|/media/juan/jc/archivos_represion/Ficheros/ACNR_militantes/Adame_Flores_samuel/IMG_6838.JPG|3456|4608|3  |1            |\n",
      "+-------------------------------------------------------------------------------------------+----+----+---+-------------+\n",
      "only showing top 2 rows\n",
      "\n"
     ]
    }
   ],
   "source": [
    "df.show(2, truncate=False)"
   ]
  },
  {
   "cell_type": "code",
   "execution_count": 28,
   "metadata": {},
   "outputs": [
    {
     "name": "stdout",
     "output_type": "stream",
     "text": [
      "+------+-----+\n",
      "|levels|count|\n",
      "+------+-----+\n",
      "|1     |3699 |\n",
      "|2     |12797|\n",
      "|3     |1512 |\n",
      "+------+-----+\n",
      "\n"
     ]
    }
   ],
   "source": [
    "count_udf = F.udf(lambda str: str.count(\"/\"))\n",
    "df.withColumn(\"levels\", count_udf(F.regexp_replace(F.col(\"path\"), \"/media/juan/jc/archivos_represion/Ficheros/\", \"\"))).groupBy(F.col(\"levels\")).count().orderBy(F.col(\"levels\")).show(truncate=False)"
   ]
  },
  {
   "cell_type": "code",
   "execution_count": 34,
   "metadata": {},
   "outputs": [
    {
     "name": "stdout",
     "output_type": "stream",
     "text": [
      "+---------+---------+---------+----+\n",
      "|avg_count|min_count|max_count|moda|\n",
      "+---------+---------+---------+----+\n",
      "|36.016   |1        |684      |1   |\n",
      "+---------+---------+---------+----+\n",
      "\n"
     ]
    }
   ],
   "source": [
    "rpl_udf = F.udf(lambda pth: pth.replace(pth.split(\"/\")[-1], \"\"))\n",
    "mode_udf = F.udf(lambda arr: max(set(arr), key=arr.count))\n",
    "df.withColumn(\"parent\",rpl_udf(F.col(\"path\"))).groupBy(\"parent\").count().agg(\n",
    " F.avg(\"count\").alias(\"avg_count\"),\n",
    " F.min(\"count\").alias(\"min_count\"),\n",
    " F.max(\"count\").alias(\"max_count\"),\n",
    "    F.collect_list(F.col(\"count\")).alias(\"nums\")\n",
    ").withColumn(\"moda\", mode_udf(F.col(\"nums\"))).drop(\"nums\").show(truncate=False)"
   ]
  },
  {
   "cell_type": "code",
   "execution_count": 38,
   "metadata": {},
   "outputs": [
    {
     "name": "stdout",
     "output_type": "stream",
     "text": [
      "+---+-----+\n",
      "|nm |count|\n",
      "+---+-----+\n",
      "|1  |66   |\n",
      "|2  |45   |\n",
      "|3  |45   |\n",
      "|4  |28   |\n",
      "|5  |27   |\n",
      "|6  |19   |\n",
      "|7  |12   |\n",
      "|8  |11   |\n",
      "|9  |9    |\n",
      "|10 |12   |\n",
      "|11 |4    |\n",
      "|12 |11   |\n",
      "|13 |6    |\n",
      "|14 |4    |\n",
      "|15 |4    |\n",
      "|16 |4    |\n",
      "|17 |8    |\n",
      "|18 |2    |\n",
      "|19 |3    |\n",
      "|20 |4    |\n",
      "|21 |2    |\n",
      "|22 |6    |\n",
      "|23 |5    |\n",
      "|24 |7    |\n",
      "|25 |3    |\n",
      "|26 |4    |\n",
      "|27 |5    |\n",
      "|28 |1    |\n",
      "|29 |3    |\n",
      "|30 |2    |\n",
      "|31 |2    |\n",
      "|32 |2    |\n",
      "|33 |2    |\n",
      "|34 |1    |\n",
      "|36 |1    |\n",
      "|37 |1    |\n",
      "|38 |1    |\n",
      "|39 |1    |\n",
      "|40 |2    |\n",
      "|43 |2    |\n",
      "|44 |2    |\n",
      "|45 |1    |\n",
      "|47 |2    |\n",
      "|49 |3    |\n",
      "|52 |1    |\n",
      "|54 |3    |\n",
      "|55 |1    |\n",
      "|57 |1    |\n",
      "|58 |4    |\n",
      "|59 |1    |\n",
      "|60 |1    |\n",
      "|61 |2    |\n",
      "|62 |1    |\n",
      "|66 |1    |\n",
      "|68 |3    |\n",
      "|69 |1    |\n",
      "|70 |3    |\n",
      "|71 |1    |\n",
      "|72 |2    |\n",
      "|74 |1    |\n",
      "|77 |2    |\n",
      "|78 |1    |\n",
      "|79 |2    |\n",
      "|80 |1    |\n",
      "|81 |3    |\n",
      "|82 |2    |\n",
      "|83 |1    |\n",
      "|85 |1    |\n",
      "|86 |2    |\n",
      "|90 |1    |\n",
      "|92 |2    |\n",
      "|95 |2    |\n",
      "|96 |1    |\n",
      "|97 |2    |\n",
      "|100|1    |\n",
      "|103|6    |\n",
      "|105|2    |\n",
      "|106|1    |\n",
      "|107|1    |\n",
      "|108|1    |\n",
      "|112|1    |\n",
      "|121|1    |\n",
      "|125|1    |\n",
      "|127|1    |\n",
      "|141|3    |\n",
      "|148|1    |\n",
      "|149|1    |\n",
      "|150|3    |\n",
      "|151|6    |\n",
      "|153|3    |\n",
      "|154|3    |\n",
      "|155|1    |\n",
      "|156|4    |\n",
      "|157|1    |\n",
      "|158|4    |\n",
      "|159|3    |\n",
      "|162|1    |\n",
      "|164|1    |\n",
      "|168|3    |\n",
      "|169|1    |\n",
      "+---+-----+\n",
      "only showing top 100 rows\n",
      "\n"
     ]
    }
   ],
   "source": [
    "rpl_udf = F.udf(lambda pth: pth.replace(pth.split(\"/\")[-1], \"\"))\n",
    "mode_udf = F.udf(lambda arr: max(set(arr), key=arr.count))\n",
    "df.withColumn(\"parent\",rpl_udf(F.col(\"path\"))).groupBy(\"parent\").count().groupBy(F.col(\"count\").alias(\"nm\")).count().orderBy(F.col(\"nm\").asc()).show(100, truncate=False)"
   ]
  },
  {
   "cell_type": "code",
   "execution_count": null,
   "metadata": {},
   "outputs": [],
   "source": []
  }
 ],
 "metadata": {
  "kernelspec": {
   "display_name": "Python 3",
   "language": "python",
   "name": "python3"
  },
  "language_info": {
   "codemirror_mode": {
    "name": "ipython",
    "version": 3
   },
   "file_extension": ".py",
   "mimetype": "text/x-python",
   "name": "python",
   "nbconvert_exporter": "python",
   "pygments_lexer": "ipython3",
   "version": "3.8.5"
  }
 },
 "nbformat": 4,
 "nbformat_minor": 4
}
