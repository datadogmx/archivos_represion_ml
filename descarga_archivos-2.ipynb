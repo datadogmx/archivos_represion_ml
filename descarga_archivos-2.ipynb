{
 "cells": [
  {
   "cell_type": "code",
   "execution_count": 1,
   "metadata": {},
   "outputs": [],
   "source": [
    "import bs4\n",
    "import requests\n",
    "import os\n",
    "import urllib.request"
   ]
  },
  {
   "cell_type": "code",
   "execution_count": 2,
   "metadata": {},
   "outputs": [],
   "source": [
    "file_counter = 0\n",
    "def download_directory(url, output):\n",
    "    global file_counter\n",
    "    \n",
    "    r = requests.get(url)\n",
    "    if not(r.status_code == requests.codes.ok):\n",
    "        return\n",
    "    data = bs4.BeautifulSoup(r.text, \"html.parser\")\n",
    "    if(len(data.find_all(\"tr\")) <3):\n",
    "        return\n",
    "    for tr in data.find_all(\"tr\")[3:-1]:\n",
    "        a = bs4.BeautifulSoup(str(tr), \"html.parser\").find(\"a\")\n",
    "        href = str(a[\"href\"])\n",
    "        name = str(a.text)\n",
    "\n",
    "        output_path = output+\"/\"+name\n",
    "        input_path = url+\"/\"+href\n",
    "        \n",
    "        try:\n",
    "            if(\"/\" in name):\n",
    "                \n",
    "                if(os.path.exists(output_path) == False):\n",
    "                    os.mkdir(output_path)\n",
    "                download_directory(input_path, output_path)\n",
    "            else:\n",
    "                \n",
    "                if(os.path.exists(output_path) == False):\n",
    "                    r2 = requests.get(input_path)\n",
    "                    open(output_path, 'wb').write(r2.content)\n",
    "                file_counter+=1\n",
    "                print(file_counter, end=\"\\r\")\n",
    "        except Exception as e:\n",
    "            print(e)\n",
    "            print(output_path, input_path)\n",
    "            pass;"
   ]
  },
  {
   "cell_type": "code",
   "execution_count": 7,
   "metadata": {},
   "outputs": [
    {
     "name": "stdout",
     "output_type": "stream",
     "text": [
      "download/Ficheros//ACNR_militantes//Solis_Morales_Concepcion//IMG_7896.JPG https://archivo.archivosdelarepresion.org/Ficheros//ACNR_militantes//Solis_Morales_Concepcion//IMG_7896.JPG\n",
      "download/Ficheros//Represores//Policia_del_estado_de_Guerrero//Policia_de_Guerrero_2//Policia_del_Estado_de_Guerrero-140-.JPG https://archivo.archivosdelarepresion.org/Ficheros//Represores//Policia_del_estado_de_Guerrero//Policia_de_Guerrero_2//Policia_del_Estado_de_Guerrero-140-.JPG\n",
      "download/Ficheros//Represores//Salgado_Salgado_Emilio//SALGADO_SALGADO_Emilio-7-.JPG https://archivo.archivosdelarepresion.org/Ficheros//Represores//Salgado_Salgado_Emilio//SALGADO_SALGADO_Emilio-7-.JPG\n",
      "download/Ficheros//SEDENA,_Batallones//35_Z.M//DSC06550.JPG https://archivo.archivosdelarepresion.org/Ficheros//SEDENA,_Batallones//35_Z.M//DSC06550.JPG\n",
      "download/Ficheros//SEDENA,_Batallones//35_Z.M//DSC06551.JPG https://archivo.archivosdelarepresion.org/Ficheros//SEDENA,_Batallones//35_Z.M//DSC06551.JPG\n",
      "download/Ficheros//SEDENA,_Batallones//48_BI/ https://archivo.archivosdelarepresion.org/Ficheros//SEDENA,_Batallones//48_BI/\n",
      "download/Ficheros//Salas_Obregon_Ignacio,_Fichas/ https://archivo.archivosdelarepresion.org/Ficheros//Salas_Obregon_Ignacio,_Fichas/\n",
      "download/Ficheros//Salas_Obregon_Ignacio_Arturo/ https://archivo.archivosdelarepresion.org/Ficheros//Salas_Obregon_Ignacio_Arturo/\n",
      "download/Ficheros//UAG/ https://archivo.archivosdelarepresion.org/Ficheros//UAG/\n",
      "download/Ficheros//UPCEG,_Version_Publica-59-04-09_a_85-12-04-,_Guerrero/ https://archivo.archivosdelarepresion.org/Ficheros//UPCEG,_Version_Publica-59-04-09_a_85-12-04-,_Guerrero/\n",
      "download/Ficheros//Union_Campesina_Independiente,_fichas/ https://archivo.archivosdelarepresion.org/Ficheros//Union_Campesina_Independiente,_fichas/\n",
      "download/Ficheros//VAR/ https://archivo.archivosdelarepresion.org/Ficheros//VAR/\n",
      "download/Ficheros//VARP/ https://archivo.archivosdelarepresion.org/Ficheros//VARP/\n",
      "download/Ficheros//Zamora_Galindo_Camerino/ https://archivo.archivosdelarepresion.org/Ficheros//Zamora_Galindo_Camerino/\n",
      "download/Ficheros//Zona_Militar_18/ https://archivo.archivosdelarepresion.org/Ficheros//Zona_Militar_18/\n",
      "download/Ficheros//Zona_Militar_27,_fichas/ https://archivo.archivosdelarepresion.org/Ficheros//Zona_Militar_27,_fichas/\n",
      "download/Ficheros//arbol-ficheros.txt https://archivo.archivosdelarepresion.org/Ficheros//arbol-ficheros.txt\n",
      "download/Ficheros//cafeticultores/ https://archivo.archivosdelarepresion.org/Ficheros//cafeticultores/\n",
      "download/Ficheros//duplicados_ficheros.txt https://archivo.archivosdelarepresion.org/Ficheros//duplicados_ficheros.txt\n",
      "14058\r"
     ]
    }
   ],
   "source": [
    "home = \"https://archivo.archivosdelarepresion.org/Ficheros/\"\n",
    "output_path = \"/media/juan/DATA/archivos_represion/Ficheros/\"\n",
    "download_directory(home, output_path)"
   ]
  },
  {
   "cell_type": "code",
   "execution_count": 6,
   "metadata": {},
   "outputs": [],
   "source": [
    "urls = [\"https://archivo.archivosdelarepresion.org/Ficheros//ACNR_militantes//Solis_Morales_Concepcion//IMG_7896.JPG\",\n",
    "\"https://archivo.archivosdelarepresion.org/Ficheros//Represores//Policia_del_estado_de_Guerrero//Policia_de_Guerrero_2//Policia_del_Estado_de_Guerrero-140-.JPG\",\n",
    "\"https://archivo.archivosdelarepresion.org/Ficheros//Represores//Salgado_Salgado_Emilio//SALGADO_SALGADO_Emilio-7-.JPG\",\n",
    "\"https://archivo.archivosdelarepresion.org/Ficheros//SEDENA,_Batallones//35_Z.M//DSC06550.JPG\",\n",
    "\"https://archivo.archivosdelarepresion.org/Ficheros//SEDENA,_Batallones//35_Z.M//DSC06551.JPG\",\n",
    "\"https://archivo.archivosdelarepresion.org/Ficheros//SEDENA,_Batallones//48_BI/\",\n",
    "\"https://archivo.archivosdelarepresion.org/Ficheros//Salas_Obregon_Ignacio,_Fichas/\",\n",
    "\"https://archivo.archivosdelarepresion.org/Ficheros//Salas_Obregon_Ignacio_Arturo/\",\n",
    "\"https://archivo.archivosdelarepresion.org/Ficheros//UAG/\",\n",
    "\"https://archivo.archivosdelarepresion.org/Ficheros//UPCEG,_Version_Publica-59-04-09_a_85-12-04-,_Guerrero/\",\n",
    "\"https://archivo.archivosdelarepresion.org/Ficheros//Union_Campesina_Independiente,_fichas/\",\n",
    "\"https://archivo.archivosdelarepresion.org/Ficheros//VAR/\",\n",
    "\"https://archivo.archivosdelarepresion.org/Ficheros//VARP/\",\n",
    "\"https://archivo.archivosdelarepresion.org/Ficheros//Zamora_Galindo_Camerino/\",\n",
    "\"https://archivo.archivosdelarepresion.org/Ficheros//Zona_Militar_18/\",\n",
    "\"https://archivo.archivosdelarepresion.org/Ficheros//Zona_Militar_27,_fichas/\",\n",
    "\"https://archivo.archivosdelarepresion.org/Ficheros//arbol-ficheros.txt\",\n",
    "\"https://archivo.archivosdelarepresion.org/Ficheros//cafeticultores/\",\n",
    "\"https://archivo.archivosdelarepresion.org/Ficheros//duplicados_ficheros.txt\"]\n",
    "\n",
    "outputs = list(map(lambda el: \"/media/juan/DATA/archivos_represion/\"+el[el.index(\"Ficheros/\"):], urls))"
   ]
  },
  {
   "cell_type": "code",
   "execution_count": 45,
   "metadata": {},
   "outputs": [],
   "source": [
    "file_counter = 0 \n",
    "def fill_missing(input_path, output_path):\n",
    "    global file_counter\n",
    "    \n",
    "    try:\n",
    "        if(output_path.endswith(\"/\")):\n",
    "            if(os.path.exists(output_path) == False):\n",
    "                os.mkdir(output_path)\n",
    "            download_directory(input_path, output_path)\n",
    "        else:\n",
    "            r2 = requests.get(input_path)\n",
    "            if(os.path.exists(output_path) == False):\n",
    "                open(output_path, 'wb').write(r2.content)\n",
    "                file_counter+=1\n",
    "            print(file_counter, end=\"\\r\")\n",
    "    except Exception as e:\n",
    "        print(e)\n",
    "        print(output_path, input_path)\n",
    "        pass;"
   ]
  },
  {
   "cell_type": "code",
   "execution_count": 40,
   "metadata": {},
   "outputs": [
    {
     "data": {
      "text/plain": [
       "True"
      ]
     },
     "execution_count": 40,
     "metadata": {},
     "output_type": "execute_result"
    }
   ],
   "source": [
    "\n",
    "os.path.exists(\"/media/juan/DATA/archivos_represion/Ficheros//cafeticultores/\")"
   ]
  },
  {
   "cell_type": "code",
   "execution_count": 46,
   "metadata": {},
   "outputs": [
    {
     "name": "stdout",
     "output_type": "stream",
     "text": [
      "/media/juan/DATA/archivos_represion/Ficheros//UAG//60-05-13_a_65-03-24//UAG_fichas-26-.JPG https://archivo.archivosdelarepresion.org/Ficheros//UAG//60-05-13_a_65-03-24//UAG_fichas-26-.JPG\n",
      "4299\r"
     ]
    }
   ],
   "source": [
    "for indx in range(len(urls)):\n",
    "    fill_missing(urls[indx], outputs[indx])"
   ]
  },
  {
   "cell_type": "code",
   "execution_count": 47,
   "metadata": {},
   "outputs": [
    {
     "name": "stdout",
     "output_type": "stream",
     "text": [
      "4300\r"
     ]
    }
   ],
   "source": [
    "urls = [ \"https://archivo.archivosdelarepresion.org/Ficheros//UAG//60-05-13_a_65-03-24//UAG_fichas-26-.JPG\"]\n",
    "outputs=[\"/media/juan/DATA/archivos_represion/Ficheros//UAG//60-05-13_a_65-03-24//UAG_fichas-26-.JPG\"]\n",
    "for indx in range(len(urls)):\n",
    "    fill_missing(urls[indx], outputs[indx])"
   ]
  },
  {
   "cell_type": "code",
   "execution_count": null,
   "metadata": {},
   "outputs": [
    {
     "name": "stdout",
     "output_type": "stream",
     "text": [
      "42027\r"
     ]
    }
   ],
   "source": [
    "home = \"https://archivo.archivosdelarepresion.org/Galeria_1/\"\n",
    "output_path = \"/media/juan/DATA/archivos_represion/Galeria_1/\"\n",
    "download_directory(home, output_path)"
   ]
  },
  {
   "cell_type": "code",
   "execution_count": null,
   "metadata": {},
   "outputs": [
    {
     "name": "stdout",
     "output_type": "stream",
     "text": [
      "(\"Connection broken: ConnectionResetError(104, 'Connection reset by peer')\", ConnectionResetError(104, 'Connection reset by peer'))\n",
      "/media/juan/DATA/archivos_represion/Galeria_2//DIPS//Caja_516-E-67-05-17_a_67-08-30-,_D.F//Caja_516-E,_Exp._3-67-07-10_a_67-08-30-//67-08-19._Periodico_mural_en_politicas,_UNAM._caja_516_exp._3..JPG https://archivo.archivosdelarepresion.org/Galeria_2//DIPS//Caja_516-E-67-05-17_a_67-08-30-,_D.F//Caja_516-E,_Exp._3-67-07-10_a_67-08-30-//67-08-19._Periodico_mural_en_politicas,_UNAM._caja_516_exp._3..JPG\n",
      "(\"Connection broken: ConnectionResetError(104, 'Connection reset by peer')\", ConnectionResetError(104, 'Connection reset by peer'))\n",
      "/media/juan/DATA/archivos_represion/Galeria_2//DIPS//Caja_516-E-67-05-17_a_67-08-30-,_D.F//Caja_516-E,_Exp._3-67-07-10_a_67-08-30-//67-08-21._asamblea_facultad_de_derecho-1-2-.caja_516_exp._3..JPG https://archivo.archivosdelarepresion.org/Galeria_2//DIPS//Caja_516-E-67-05-17_a_67-08-30-,_D.F//Caja_516-E,_Exp._3-67-07-10_a_67-08-30-//67-08-21._asamblea_facultad_de_derecho-1-2-.caja_516_exp._3..JPG\n",
      "39735\r"
     ]
    }
   ],
   "source": [
    "file_counter = 0\n",
    "home = \"https://archivo.archivosdelarepresion.org/Galeria_2/\"\n",
    "output_path = \"/media/juan/DATA/archivos_represion/Galeria_2/\"\n",
    "download_directory(home, output_path)"
   ]
  },
  {
   "cell_type": "code",
   "execution_count": null,
   "metadata": {},
   "outputs": [],
   "source": []
  }
 ],
 "metadata": {
  "kernelspec": {
   "display_name": "Python 3",
   "language": "python",
   "name": "python3"
  },
  "language_info": {
   "codemirror_mode": {
    "name": "ipython",
    "version": 3
   },
   "file_extension": ".py",
   "mimetype": "text/x-python",
   "name": "python",
   "nbconvert_exporter": "python",
   "pygments_lexer": "ipython3",
   "version": "3.5.2"
  }
 },
 "nbformat": 4,
 "nbformat_minor": 4
}
